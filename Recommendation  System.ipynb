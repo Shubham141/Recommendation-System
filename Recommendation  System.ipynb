{
 "cells": [
  {
   "cell_type": "code",
   "execution_count": 2,
   "metadata": {},
   "outputs": [],
   "source": [
    "import pandas as pd\n",
    "import numpy as np\n",
    "import warnings\n",
    "warnings.filterwarnings(\"ignore\")\n",
    "from scipy import spatial\n",
    "import json\n",
    "import operator"
   ]
  },
  {
   "cell_type": "code",
   "execution_count": 10,
   "metadata": {},
   "outputs": [],
   "source": [
    "credits=pd.read_csv(\"C:/Users/Shubham Gupta/Downloads/tmdb_5000_movies.csv\")\n",
    "movies=pd.read_csv(\"C:/Users/Shubham Gupta/Downloads/tmdb_5000_credits.csv\")"
   ]
  },
  {
   "cell_type": "code",
   "execution_count": 11,
   "metadata": {},
   "outputs": [],
   "source": [
    "x=['genres', 'keywords', 'production_companies', 'production_countries']\n",
    "for i in x:\n",
    "    credits[i]=credits[i].apply(json.loads)"
   ]
  },
  {
   "cell_type": "code",
   "execution_count": 12,
   "metadata": {},
   "outputs": [],
   "source": [
    "def json_to_str(a):\n",
    "    for index,i in zip(credits.index, credits[a]):\n",
    "        list1=[]\n",
    "        for j in i:\n",
    "            list1.append((j['name']))# the key 'name' contains the name of the coloumn passed\n",
    "        credits.loc[index, a]=str(list1)"
   ]
  },
  {
   "cell_type": "code",
   "execution_count": 13,
   "metadata": {},
   "outputs": [],
   "source": [
    "for i in x:\n",
    "    json_to_str(i)\n",
    "\n",
    "x=['cast', 'crew']\n",
    "for i in x:\n",
    "    movies[i]=movies[i].apply(json.loads)\n",
    "\n",
    "for index,i in zip(movies.index, movies['cast']):\n",
    "    list1=[]\n",
    "    for j in i:\n",
    "        list1.append(j['name'])\n",
    "    movies.loc[index,'cast']=str(list1)\n",
    "\n",
    "for index,i in zip(movies.index, movies['crew']):\n",
    "    list1=[]\n",
    "    for j in i:\n",
    "        if j['job']=='Director':\n",
    "            list1.append(j['name'])\n",
    "    movies.loc[index,'crew']=str(list1)"
   ]
  },
  {
   "cell_type": "code",
   "execution_count": 14,
   "metadata": {},
   "outputs": [],
   "source": [
    "movies.rename(columns={'crew':'director'},inplace=True)\n",
    "movies_new=credits.merge(movies, left_on='id',right_on='movie_id',how='left')\n",
    "movies_new=movies_new[['id','original_title','genres','cast','vote_average','director','keywords']]"
   ]
  },
  {
   "cell_type": "code",
   "execution_count": 15,
   "metadata": {},
   "outputs": [],
   "source": [
    "movies_new['genres']=movies_new['genres'].str.strip('[]').str.replace(' ','').str.replace(\"'\",'')\n",
    "movies_new['genres']=movies_new['genres'].str.split(',')"
   ]
  },
  {
   "cell_type": "code",
   "execution_count": 16,
   "metadata": {},
   "outputs": [],
   "source": [
    "genreList = []\n",
    "for index, row in movies_new.iterrows():\n",
    "    genres = row[\"genres\"]\n",
    "\n",
    "    for i in genres:\n",
    "        if i not in genreList:\n",
    "            genreList.append(i)"
   ]
  },
  {
   "cell_type": "code",
   "execution_count": 17,
   "metadata": {},
   "outputs": [],
   "source": [
    "\n",
    "def binary(genres_of_movie):\n",
    "    binaryList = []"
   ]
  },
  {
   "cell_type": "code",
   "execution_count": 37,
   "metadata": {},
   "outputs": [],
   "source": [
    "movies_new['binarylist']=movies_new['genres'].apply(lambda x: binary(x))\n",
    "\n",
    "movies_new['keywords']=movies_new['keywords'].str.strip('[]').str.replace(' ','').str.replace(\"'\",'').str.replace('\"','')\n",
    "movies_new['keywords']=movies_new['keywords'].str.split(',')"
   ]
  },
  {
   "cell_type": "code",
   "execution_count": 38,
   "metadata": {},
   "outputs": [],
   "source": [
    "castList = []\n",
    "for index, row in movies_new.iterrows():\n",
    "    cast = row['cast']\n",
    "\n",
    "    for i in cast:\n",
    "        if i not in castList:\n",
    "            castList.append(i)"
   ]
  },
  {
   "cell_type": "code",
   "execution_count": 39,
   "metadata": {},
   "outputs": [],
   "source": [
    "key_wordList = []\n",
    "for index, row in movies_new.iterrows():\n",
    "    keywords = row['keywords']\n",
    "\n",
    "    for i in keywords:\n",
    "        if i not in key_wordList:\n",
    "            key_wordList.append(i)"
   ]
  },
  {
   "cell_type": "code",
   "execution_count": 40,
   "metadata": {},
   "outputs": [],
   "source": [
    "\n",
    "\n",
    "def binary2(data):\n",
    "    binaryList = []\n",
    "\n",
    "    for i in castList:\n",
    "        if i in data:\n",
    "            binaryList.append(1)\n",
    "        else:\n",
    "            binaryList.append(0)\n",
    "\n",
    "    return binaryList"
   ]
  },
  {
   "cell_type": "code",
   "execution_count": 41,
   "metadata": {},
   "outputs": [],
   "source": [
    "\n",
    "movies_new['binary_cast']=movies_new['cast'].apply(lambda x: binary2(x))\n"
   ]
  },
  {
   "cell_type": "code",
   "execution_count": 42,
   "metadata": {},
   "outputs": [],
   "source": [
    "def binary3(data):\n",
    "    binaryList = []\n",
    "\n",
    "    for i in key_wordList:\n",
    "        if i in data:\n",
    "            binaryList.append(1)\n",
    "        else:\n",
    "            binaryList.append(0)\n",
    "\n",
    "    return binaryList"
   ]
  },
  {
   "cell_type": "code",
   "execution_count": 43,
   "metadata": {},
   "outputs": [],
   "source": [
    "movies_new['binary_keywords']=movies_new['keywords'].apply(lambda x: binary3(x))"
   ]
  },
  {
   "cell_type": "code",
   "execution_count": 44,
   "metadata": {},
   "outputs": [],
   "source": [
    "movies_new['director']=movies_new['director'].str.strip('[]').str.replace(' ','').str.replace(\"'\",'')\n",
    "movies_new['director']=movies_new['director'].str.split(',')"
   ]
  },
  {
   "cell_type": "code",
   "execution_count": 45,
   "metadata": {},
   "outputs": [],
   "source": [
    "DirectorList = []\n",
    "for index, row in movies_new.iterrows():\n",
    "    director = row['director']\n",
    "\n",
    "    for i in director:\n",
    "        if i not in DirectorList:\n",
    "            DirectorList.append(i)\n"
   ]
  },
  {
   "cell_type": "code",
   "execution_count": 46,
   "metadata": {},
   "outputs": [],
   "source": [
    "def binary4(data):\n",
    "    binaryList = []\n",
    "\n",
    "    for i in DirectorList:\n",
    "        if i in data:\n",
    "            binaryList.append(1)\n",
    "        else:\n",
    "            binaryList.append(0)\n",
    "\n",
    "    return binaryList"
   ]
  },
  {
   "cell_type": "code",
   "execution_count": 47,
   "metadata": {},
   "outputs": [],
   "source": [
    "movies_new['binary_director']=movies_new['director'].apply(lambda x: binary4(x))\n",
    "\n",
    "movies_new=movies_new[['id', 'original_title','genres','binarylist','cast','binary_cast','director','binary_director','keywords', 'binary_keywords', 'vote_average']]\n",
    "movies_new['id']=list(range(0, len(movies_new)))\n",
    "movies_new.rename(columns={'binarylist':'binary_gen'},inplace=True)"
   ]
  },
  {
   "cell_type": "code",
   "execution_count": 48,
   "metadata": {},
   "outputs": [],
   "source": [
    "def Similarity(movieId1, movieId2):\n",
    "    a = movies_new.iloc[movieId1]\n",
    "    b = movies_new.iloc[movieId2]\n",
    "\n",
    "    genresA = a['binary_gen']\n",
    "    genresB = b['binary_gen']\n",
    "\n",
    "    genreDistance = spatial.distance.cosine(genresA, genresB)\n",
    "\n",
    "    scoreA = a['binary_cast']\n",
    "    scoreB = b['binary_cast']\n",
    "    castDistance = spatial.distance.cosine(scoreA, scoreB)\n",
    "\n",
    "    directA = a['binary_director']\n",
    "    directB = b['binary_director']\n",
    "    directorDistance = spatial.distance.cosine(directA, directB)\n",
    "\n",
    "    wordsA = a['binary_keywords']\n",
    "    wordsB = b['binary_keywords']\n",
    "    wordsDistance = spatial.distance.cosine(directA, directB)\n",
    "\n",
    "    return genreDistance + directorDistance + castDistance + wordsDistance"
   ]
  },
  {
   "cell_type": "code",
   "execution_count": 49,
   "metadata": {},
   "outputs": [],
   "source": [
    "def getname(name=\"\"):\n",
    "    name=name.title()\n",
    "    new_movie = pd.DataFrame(movies_new[movies_new['original_title'].str.contains(name)].iloc[0]).T\n",
    "    selected = new_movie.iloc[:, [0,1 ,2,6]]\n",
    "    distances = []\n",
    "    for index, row in movies_new.iterrows():\n",
    "        if new_movie['id'].values[0] != row['id']:\n",
    "            dist = Similarity(new_movie['id'].values[0], row['id'])\n",
    "            distances.append((row['id'], dist))\n",
    "\n",
    "    distances.sort(key=operator.itemgetter(1))\n",
    "    top10 = distances[:10]\n",
    "    recommended=pd.DataFrame(columns=['Title', 'Genre', 'Director'])\n",
    "    c=0\n",
    "    for i in top10:\n",
    "        recommended.loc[c, 'Title']= movies_new.iloc[i[0]][1]\n",
    "        recommended.loc[c, 'Genre'] = movies_new.iloc[i[0]][2]\n",
    "        recommended.loc[c, 'Director'] = movies_new.iloc[i[0]][6]\n",
    "        c=c+1\n",
    "    return selected, recommended"
   ]
  },
  {
   "cell_type": "code",
   "execution_count": null,
   "metadata": {},
   "outputs": [],
   "source": []
  },
  {
   "cell_type": "code",
   "execution_count": null,
   "metadata": {},
   "outputs": [],
   "source": []
  }
 ],
 "metadata": {
  "kernelspec": {
   "display_name": "Python 3",
   "language": "python",
   "name": "python3"
  },
  "language_info": {
   "codemirror_mode": {
    "name": "ipython",
    "version": 3
   },
   "file_extension": ".py",
   "mimetype": "text/x-python",
   "name": "python",
   "nbconvert_exporter": "python",
   "pygments_lexer": "ipython3",
   "version": "3.8.3"
  }
 },
 "nbformat": 4,
 "nbformat_minor": 4
}
